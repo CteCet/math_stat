{
 "cells": [
  {
   "cell_type": "code",
   "execution_count": null,
   "metadata": {
    "colab": {},
    "colab_type": "code",
    "id": "j14i_8I_M9JZ"
   },
   "outputs": [],
   "source": []
  },
  {
   "cell_type": "markdown",
   "metadata": {
    "colab_type": "text",
    "id": "B5JU8netM-04"
   },
   "source": [
    "Задача 3\n",
    "$$ Mi = \\frac{12+14}{2} = 13 $$\n",
    "$$ Mx = 30 * 13 = 390$$\n",
    "$$ D = \\frac{420-360}{12} = 300 $$  \n",
    "$$ a)P(-\\infty<X<390) = Ф(\\frac{390-390}{\\sqrt{300}})+Ф(\\infty) = 0+0.5 = 0.5$$\n",
    "$$ b)P(395<X<\\infty) = Ф(\\frac{\\infty-390}{\\sqrt{300}})+Ф(\\frac{395-390}{\\sqrt{300}}) = 0.5 +Ф(0.29) \\approx 0.5+ 0.1141 \\approx 0.6141 $$\n",
    "$$ c)P(380<X<400)=Ф(\\frac{400-390}{\\sqrt{300}}) - Ф(\\frac{380-390}{\\sqrt{300}}) \\approx Ф(0.56) + Ф(0.56) \\approx 0.2123 + 0.2123\\approx 0.4246$$\n"
   ]
  },
  {
   "cell_type": "markdown",
   "metadata": {
    "colab_type": "text",
    "id": "-rXZNhKfrr43"
   },
   "source": [
    "Задача 2 \n",
    "$$M(X) = 1.06$$\n",
    "$$a)P(-\\infty<X<1) = Ф(\\frac{1-1.06}{\\sigma})-Ф(\\frac{-\\infty-1.06}{\\sigma})=0,05$$\n",
    "$$Ф(\\frac{-0.06}{\\sigma})+0.5 = 0.05$$\n",
    "$$Ф(\\frac{0.06}{\\sigma}) = 0.45$$\n",
    "$$\\frac{0.06}{\\sigma} \\approx 1.65$$\n",
    "$$\\sigma \\approx 0.0363$$\n",
    "$$b)P(1.1<X<\\infty) = Ф(\\frac{\\infty - 1.06}{0.0363})-Ф(\\frac{1.1-1.06}{0.0363})= 0.5 - Ф(\\frac{0.04}{0.0363})\\approx 0.5-Ф(1.10)\\approx 0.5 - 0.3643\\approx 0.1357 $$"
   ]
  },
  {
   "cell_type": "markdown",
   "metadata": {
    "colab_type": "text",
    "id": "teK0XArywdRS"
   },
   "source": [
    "Задача 1\n",
    "$$D(B) = 0.2, a = 0.5$$\n",
    "$$D(B)= \\frac{(x-0.5)^2}{12} = 0.2$$\n",
    "$$(x-0.5)^2 =2.4 $$\n",
    "$$x^2-x+0.25 = 2.4$$\n",
    "$$x^2-x-2.15 = 0$$\n",
    "$$D= (-1)^2-4*1*-2.15=9.6 $$\n",
    "$$x1= \\frac{1+\\sqrt{9.6}}{2}\\approx 2.05 - b$$\n",
    "$$x2= \\frac{1-\\sqrt{9.6}}{2}\\approx -1.05 $$\n",
    "$$M(B) = \\frac{0.5+2.05}{2}=1.275$$"
   ]
  }
 ],
 "metadata": {
  "colab": {
   "collapsed_sections": [],
   "name": "lesson4",
   "provenance": []
  },
  "kernelspec": {
   "display_name": "Python 3",
   "language": "python",
   "name": "python3"
  },
  "language_info": {
   "codemirror_mode": {
    "name": "ipython",
    "version": 3
   },
   "file_extension": ".py",
   "mimetype": "text/x-python",
   "name": "python",
   "nbconvert_exporter": "python",
   "pygments_lexer": "ipython3",
   "version": "3.7.6"
  }
 },
 "nbformat": 4,
 "nbformat_minor": 1
}
